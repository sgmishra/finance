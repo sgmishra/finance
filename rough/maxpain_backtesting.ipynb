{
 "cells": [
  {
   "cell_type": "code",
   "execution_count": 1,
   "id": "b8c07984",
   "metadata": {},
   "outputs": [],
   "source": [
    "import sys\n",
    "sys.path.insert(0, '..')\n",
    "from pkg.nse import nse"
   ]
  },
  {
   "cell_type": "code",
   "execution_count": 2,
   "id": "b3494be9",
   "metadata": {},
   "outputs": [],
   "source": [
    "import requests,json\n",
    "import pandas as pd\n",
    "import datetime\n",
    "import datetime\n",
    "from collections import defaultdict\n",
    "import matplotlib.pyplot as plt\n",
    "import numpy as np\n",
    "import scipy.stats as stats\n",
    "import math"
   ]
  },
  {
   "cell_type": "markdown",
   "id": "4a218a4f",
   "metadata": {},
   "source": [
    "#### Fetching all expiries from 2013-2023, Taking only last thrusday expiries"
   ]
  },
  {
   "cell_type": "code",
   "execution_count": 4,
   "id": "09b7cff3",
   "metadata": {},
   "outputs": [],
   "source": [
    "ex=nse.historical_expiry_dates_by_dates(\"NIFTY\",start_date=\"01-01-2013\",end_date=\"01-01-2024\",type=\"options\")\n",
    "dates = [datetime.datetime.strptime(date, '%d-%b-%Y') for date in ex]\n",
    "latest_dates = defaultdict(lambda: datetime.datetime.min)\n",
    "for date in dates:\n",
    "    month_year = (date.year, date.month)\n",
    "    if date > latest_dates[month_year]:\n",
    "        latest_dates[month_year] = date\n",
    "latest_dates_list = sorted(latest_dates.values())\n",
    "expiry_dates = [date.strftime('%d-%b-%Y') for date in latest_dates_list]"
   ]
  },
  {
   "cell_type": "markdown",
   "id": "e430b7b0",
   "metadata": {},
   "source": [
    "#### Fetching expiry prices\n",
    "##### ./checkpoints/nifty_expiry_prices.csv"
   ]
  },
  {
   "cell_type": "code",
   "execution_count": 5,
   "id": "bf7238c1",
   "metadata": {},
   "outputs": [],
   "source": [
    "# symbol = \"NIFTY\"\n",
    "# indexType = \"NIFTY 50\"\n",
    "# instrumentType = \"options\"\n",
    "# optionType=\"CE\"\n",
    "# exipy_prices={}\n",
    "# for i in expiry_dates:\n",
    "#     k=nse.index_history(indexType,(datetime.datetime.strptime(i, '%d-%b-%Y') - datetime.timedelta(days=1)).strftime('%d-%b-%Y'),i)\n",
    "#     exipy_prices[i]=k[k['HistoricalDate']==k['HistoricalDate'].max()]['CLOSE'][0]"
   ]
  },
  {
   "cell_type": "code",
   "execution_count": 34,
   "id": "52b46430",
   "metadata": {},
   "outputs": [],
   "source": [
    "exipy_prices=pd.read_csv(\"/Users/shubhami/Documents/mine/finance/rough/checkpoints/nifty_expiry_prices.csv\")\n"
   ]
  },
  {
   "cell_type": "markdown",
   "id": "283b649c",
   "metadata": {},
   "source": [
    "#### Calculating the day on which we will calculate max pain i.e on expiry -14"
   ]
  },
  {
   "cell_type": "code",
   "execution_count": 7,
   "id": "d2411813",
   "metadata": {},
   "outputs": [],
   "source": [
    "days_to_expiry_for_calculation=14"
   ]
  },
  {
   "cell_type": "code",
   "execution_count": 8,
   "id": "cf286f36",
   "metadata": {},
   "outputs": [],
   "source": [
    "def get_dates_minus_days(date,days_to_expiry_for_calculation):\n",
    "    date=datetime.datetime.strptime(date, '%d-%b-%Y')\n",
    "    return (date - datetime.timedelta(days=days_to_expiry_for_calculation+2)).strftime('%d-%m-%Y'),(date - datetime.timedelta(days=days_to_expiry_for_calculation)).strftime('%d-%m-%Y')\n",
    "pain_start_end_date=[]\n",
    "for i in expiry_dates:\n",
    "    pain_start_end_date.append([i,*get_dates_minus_days(i,days_to_expiry_for_calculation)])"
   ]
  },
  {
   "cell_type": "markdown",
   "id": "233b8a86",
   "metadata": {},
   "source": [
    "#### fetching option chain "
   ]
  },
  {
   "cell_type": "code",
   "execution_count": 9,
   "id": "3329604b",
   "metadata": {},
   "outputs": [],
   "source": [
    "# symbol = \"NIFTY\"\n",
    "# # start_date = \"26-26-2014\"\n",
    "# # end_date =\"26-06-2014\"\n",
    "# instrumentType = \"options\"\n",
    "# # expiry_date =\"26-Jun-2014\"\n",
    "# # strikePrice = 2700\n",
    "# optionType=\"PE\"\n",
    "# for ex, s,e in pain_start_end_date:\n",
    "#     a=nse.historical_derivative_data(symbol,s,e,instrumentType,ex,\"\",optionType)\n",
    "#     a[a['FH_TIMESTAMP']==a['FH_TIMESTAMP'].max()].to_csv(\"./checkpoints/maxpain/nifty/\"+'-'.join(ex.split('-')[::-1])+\"-OI-PE.csv\", encoding='utf-8')\n",
    "#     print('-'.join(ex.split('-')[::-1]),a['FH_TIMESTAMP'].max())\n"
   ]
  },
  {
   "cell_type": "markdown",
   "id": "525f436d",
   "metadata": {},
   "source": [
    "#### plotting the max pain"
   ]
  },
  {
   "cell_type": "code",
   "execution_count": 10,
   "id": "4d28d614",
   "metadata": {},
   "outputs": [],
   "source": [
    "def plot_max_pain(dictonary,max_pain_point,actual_expiry_price=0):\n",
    "    strike=dictonary.keys()\n",
    "    profit=dictonary.values()\n",
    "    buffer_point = round((max_pain_point *1.05) / 100) *100\n",
    "    top_y_value = max(profit) * 1.1 \n",
    "    plt.plot(strike, profit, marker='.')\n",
    "    plt.plot(max_pain_point, min(profit), 'ro', label='Max PAIN POINT @ {}'.format(max_pain_point))\n",
    "    plt.plot(buffer_point, min(profit), 'bo', label='With ~5% buffer @ {}'.format(buffer_point))\n",
    "    plt.fill_between(strike, profit, where=[s <= max_pain_point for s in strike], color='red', alpha=0.3, label='CE write')\n",
    "    plt.fill_between(strike, profit, where=[s >= buffer_point for s in strike], color='red', alpha=0.3)\n",
    "    plt.fill_between(strike, profit, where=[max_pain_point <= s <= buffer_point for s in strike], color='green', alpha=0.5, label='Expected Expiry')\n",
    "    if actual_expiry_price:\n",
    "        plt.plot(actual_expiry_price, min(profit), 'go', label='Actual Expiry Price {}'.format(actual_expiry_price))\n",
    "    plt.xlabel('STRIKE')\n",
    "    plt.ylabel('PROFIT')\n",
    "    plt.title('Plotting for MAXPAIN')\n",
    "    plt.legend()\n",
    "    plt.show()\n"
   ]
  },
  {
   "cell_type": "code",
   "execution_count": 11,
   "id": "5bc7ce67",
   "metadata": {},
   "outputs": [],
   "source": [
    "def ce_profit(strike,stock):\n",
    "    result = float(stock)-float(strike)\n",
    "    return max(result, 0) \n",
    "\n",
    "def pe_profit(strike,stock):\n",
    "    result = float(strike)-float(stock)\n",
    "    return max(result, 0)   \n",
    "\n",
    "def get_max_pain_point(c,p):\n",
    "    def ce_operation(strike,OI,stock):\n",
    "        profit=ce_profit(strike,stock)\n",
    "        return int(OI) * profit\n",
    "    def pe_operation(strike,OI,stock):\n",
    "        profit=pe_profit(strike,stock)\n",
    "        return int(OI) * profit\n",
    "    profit={}\n",
    "    for s in c['FH_STRIKE_PRICE']:\n",
    "        profit[s]=sum(c.apply(lambda row:ce_operation(row['FH_STRIKE_PRICE'],row['FH_OPEN_INT'],s), axis=1))+sum(p.apply(lambda row:pe_operation(row['FH_STRIKE_PRICE'],row['FH_OPEN_INT'],s), axis=1))\n",
    "    return min(profit, key=(lambda x: profit[x])),profit"
   ]
  },
  {
   "cell_type": "code",
   "execution_count": 15,
   "id": "42ac809b",
   "metadata": {
    "collapsed": true
   },
   "outputs": [
    {
     "ename": "NameError",
     "evalue": "name 'mp15' is not defined",
     "output_type": "error",
     "traceback": [
      "\u001b[0;31m---------------------------------------------------------------------------\u001b[0m",
      "\u001b[0;31mNameError\u001b[0m                                 Traceback (most recent call last)",
      "\u001b[0;32m<ipython-input-15-0db73d35e133>\u001b[0m in \u001b[0;36m<module>\u001b[0;34m\u001b[0m\n\u001b[1;32m     11\u001b[0m \u001b[0;34m\u001b[0m\u001b[0m\n\u001b[1;32m     12\u001b[0m \u001b[0mmp14\u001b[0m \u001b[0;34m=\u001b[0m \u001b[0mpd\u001b[0m\u001b[0;34m.\u001b[0m\u001b[0mDataFrame\u001b[0m\u001b[0;34m(\u001b[0m\u001b[0mlist\u001b[0m\u001b[0;34m(\u001b[0m\u001b[0mzip\u001b[0m\u001b[0;34m(\u001b[0m\u001b[0mexipy_prices\u001b[0m\u001b[0;34m[\u001b[0m\u001b[0;34m'expiry_date'\u001b[0m\u001b[0;34m]\u001b[0m\u001b[0;34m,\u001b[0m \u001b[0mexipy_prices\u001b[0m\u001b[0;34m[\u001b[0m\u001b[0;34m'price'\u001b[0m\u001b[0;34m]\u001b[0m\u001b[0;34m,\u001b[0m\u001b[0mex_pain_point\u001b[0m\u001b[0;34m,\u001b[0m\u001b[0mpcr\u001b[0m\u001b[0;34m)\u001b[0m\u001b[0;34m)\u001b[0m\u001b[0;34m,\u001b[0m \u001b[0mcolumns\u001b[0m \u001b[0;34m=\u001b[0m \u001b[0;34m[\u001b[0m\u001b[0;34m'expiry'\u001b[0m\u001b[0;34m,\u001b[0m \u001b[0;34m'settlement'\u001b[0m\u001b[0;34m,\u001b[0m\u001b[0;34m'maxpain'\u001b[0m\u001b[0;34m,\u001b[0m\u001b[0;34m'pcr'\u001b[0m\u001b[0;34m]\u001b[0m\u001b[0;34m)\u001b[0m\u001b[0;34m\u001b[0m\u001b[0;34m\u001b[0m\u001b[0m\n\u001b[0;32m---> 13\u001b[0;31m \u001b[0mmp14\u001b[0m\u001b[0;34m[\u001b[0m\u001b[0;34m'diff'\u001b[0m\u001b[0;34m]\u001b[0m\u001b[0;34m=\u001b[0m\u001b[0;34m(\u001b[0m\u001b[0;34m(\u001b[0m\u001b[0mmp14\u001b[0m\u001b[0;34m[\u001b[0m\u001b[0;34m'settlement'\u001b[0m\u001b[0;34m]\u001b[0m\u001b[0;34m-\u001b[0m\u001b[0mmp14\u001b[0m\u001b[0;34m[\u001b[0m\u001b[0;34m'maxpain'\u001b[0m\u001b[0;34m]\u001b[0m\u001b[0;34m)\u001b[0m\u001b[0;34m/\u001b[0m\u001b[0mmp15\u001b[0m\u001b[0;34m[\u001b[0m\u001b[0;34m'maxpain'\u001b[0m\u001b[0;34m]\u001b[0m\u001b[0;34m)\u001b[0m\u001b[0;34m*\u001b[0m\u001b[0;36m100\u001b[0m\u001b[0;34m\u001b[0m\u001b[0;34m\u001b[0m\u001b[0m\n\u001b[0m\u001b[1;32m     14\u001b[0m \u001b[0;31m#plot_max_pain(d,point,exipy_prices[exipy_prices['expiry_date']==ex]['price'].values[0])\u001b[0m\u001b[0;34m\u001b[0m\u001b[0;34m\u001b[0m\u001b[0;34m\u001b[0m\u001b[0m\n\u001b[1;32m     15\u001b[0m \u001b[0;34m\u001b[0m\u001b[0m\n",
      "\u001b[0;31mNameError\u001b[0m: name 'mp15' is not defined"
     ]
    }
   ],
   "source": [
    "ex_strikes=[]\n",
    "ex_pain_point=[]\n",
    "pcr=[]\n",
    "for ex in expiry_dates:\n",
    "    c=pd.read_csv(\"/Users/shubhami/Documents/mine/finance/rough/checkpoints/maxpain/nifty/\"+'-'.join(ex.split('-')[::-1])+\"-OI-CE.csv\")\n",
    "    p=pd.read_csv(\"/Users/shubhami/Documents/mine/finance/rough/checkpoints/maxpain/nifty/\"+'-'.join(ex.split('-')[::-1])+\"-OI-PE.csv\")\n",
    "    point,d=get_max_pain_point(c,p)\n",
    "    ex_strikes.append(d)\n",
    "    ex_pain_point.append(point)\n",
    "    pcr.append(sum(p['FH_OPEN_INT'])/sum(c['FH_OPEN_INT'])\n"
   ]
  },
  {
   "cell_type": "code",
   "execution_count": 19,
   "id": "0f999995",
   "metadata": {},
   "outputs": [
    {
     "data": {
      "image/png": "[encoded data removed]",
      "text/plain": [
       "<Figure size 432x288 with 1 Axes>"
      ]
     },
     "metadata": {
      "needs_background": "light"
     },
     "output_type": "display_data"
    }
   ],
   "source": [
    "    \n",
    "mp14 = pd.DataFrame(list(zip(exipy_prices['expiry_date'], exipy_prices['price'],ex_pain_point,pcr)), columns = ['expiry', 'settlement','maxpain','pcr'])\n",
    "mp14['diff']=((mp14['settlement']-mp14['maxpain'])/mp14['maxpain'])*100\n",
    "\n",
    "#removing one outlier for march-2020 covid\n",
    "mp14=mp14[mp14['diff']>-8]\n",
    "plot_max_pain(ex_strikes[0],ex_pain_point[0],exipy_prices['price'][0])\n"
   ]
  },
  {
   "cell_type": "code",
   "execution_count": 23,
   "id": "e6c70a60",
   "metadata": {},
   "outputs": [
    {
     "data": {
      "image/png": "[encoded data removed]",
      "text/plain": [
       "<Figure size 432x288 with 1 Axes>"
      ]
     },
     "metadata": {
      "needs_background": "light"
     },
     "output_type": "display_data"
    }
   ],
   "source": [
    "\n",
    "def normal_pdf(x, mu=0, sigma=1):\n",
    "    sqrt_two_pi = math.sqrt(math.pi * 2)\n",
    "    return np.exp(-(x - mu) ** 2 / 2 / sigma ** 2) / (sqrt_two_pi * sigma)\n",
    "def plot_normal_diff(distribution):\n",
    "    mean = distribution.mean()\n",
    "    std = distribution.std()\n",
    "    first_std_range = (mean - std, mean + std)\n",
    "    second_std_range = (mean - 2*std, mean + 2*std)\n",
    "\n",
    "    plt.scatter(distribution,normal_pdf(distribution,mean,std) )\n",
    "    plt.axvline(first_std_range[0], color='g', linestyle='--', linewidth=2, label='1st Std Dev')\n",
    "    plt.axvline(first_std_range[1], color='g', linestyle='--', linewidth=2)\n",
    "    plt.axvline(mean, color='r', linestyle='--', linewidth=2, label='Mean:'+str(mean)[:4])\n",
    "    plt.axvline(second_std_range[0], color='b', linestyle='--', linewidth=2, label='2nd Std Dev')\n",
    "    plt.axvline(second_std_range[1], color='b', linestyle='--', linewidth=2)\n",
    "    plt.xlabel('% difference in actual and predicted using max pain ')\n",
    "    plt.ylabel('probability density')\n",
    "    plt.legend()\n",
    "    plt.show()\n",
    "\n",
    "plot_normal_diff(mp14['diff'])\n",
    "\n"
   ]
  },
  {
   "cell_type": "code",
   "execution_count": 24,
   "id": "5fc048c1",
   "metadata": {},
   "outputs": [
    {
     "name": "stdout",
     "output_type": "stream",
     "text": [
      "0.9115306365387916\n",
      "0.7484733142308757\n"
     ]
    }
   ],
   "source": [
    "from statistics import NormalDist\n",
    "print(NormalDist(mu=mp14['diff'].mean(), sigma=mp14['diff'].std()).cdf(5.0))\n",
    "print(NormalDist(mu=mp14['diff'].mean(), sigma=mp14['diff'].std()).cdf(2.79))"
   ]
  },
  {
   "cell_type": "markdown",
   "id": "bfad1f47",
   "metadata": {},
   "source": [
    "# year wise analsis"
   ]
  },
  {
   "cell_type": "code",
   "execution_count": 96,
   "id": "9302e556",
   "metadata": {
    "collapsed": true
   },
   "outputs": [
    {
     "data": {
      "text/html": [
       "<div>\n",
       "<style scoped>\n",
       "    .dataframe tbody tr th:only-of-type {\n",
       "        vertical-align: middle;\n",
       "    }\n",
       "\n",
       "    .dataframe tbody tr th {\n",
       "        vertical-align: top;\n",
       "    }\n",
       "\n",
       "    .dataframe thead th {\n",
       "        text-align: right;\n",
       "    }\n",
       "</style>\n",
       "<table border=\"1\" class=\"dataframe\">\n",
       "  <thead>\n",
       "    <tr style=\"text-align: right;\">\n",
       "      <th></th>\n",
       "      <th>expiry</th>\n",
       "      <th>MaxPain</th>\n",
       "    </tr>\n",
       "  </thead>\n",
       "  <tbody>\n",
       "    <tr>\n",
       "      <th>0</th>\n",
       "      <td>2013</td>\n",
       "      <td>90.208785</td>\n",
       "    </tr>\n",
       "    <tr>\n",
       "      <th>1</th>\n",
       "      <td>2014</td>\n",
       "      <td>91.872022</td>\n",
       "    </tr>\n",
       "    <tr>\n",
       "      <th>2</th>\n",
       "      <td>2015</td>\n",
       "      <td>93.094075</td>\n",
       "    </tr>\n",
       "    <tr>\n",
       "      <th>3</th>\n",
       "      <td>2016</td>\n",
       "      <td>93.109023</td>\n",
       "    </tr>\n",
       "    <tr>\n",
       "      <th>4</th>\n",
       "      <td>2017</td>\n",
       "      <td>95.501781</td>\n",
       "    </tr>\n",
       "    <tr>\n",
       "      <th>5</th>\n",
       "      <td>2018</td>\n",
       "      <td>92.884080</td>\n",
       "    </tr>\n",
       "    <tr>\n",
       "      <th>6</th>\n",
       "      <td>2019</td>\n",
       "      <td>90.403570</td>\n",
       "    </tr>\n",
       "    <tr>\n",
       "      <th>7</th>\n",
       "      <td>2020</td>\n",
       "      <td>72.090980</td>\n",
       "    </tr>\n",
       "    <tr>\n",
       "      <th>8</th>\n",
       "      <td>2021</td>\n",
       "      <td>95.841663</td>\n",
       "    </tr>\n",
       "    <tr>\n",
       "      <th>9</th>\n",
       "      <td>2022</td>\n",
       "      <td>92.285914</td>\n",
       "    </tr>\n",
       "    <tr>\n",
       "      <th>10</th>\n",
       "      <td>2023</td>\n",
       "      <td>97.511256</td>\n",
       "    </tr>\n",
       "  </tbody>\n",
       "</table>\n",
       "</div>"
      ],
      "text/plain": [
       "   expiry    MaxPain\n",
       "0    2013  90.208785\n",
       "1    2014  91.872022\n",
       "2    2015  93.094075\n",
       "3    2016  93.109023\n",
       "4    2017  95.501781\n",
       "5    2018  92.884080\n",
       "6    2019  90.403570\n",
       "7    2020  72.090980\n",
       "8    2021  95.841663\n",
       "9    2022  92.285914\n",
       "10   2023  97.511256"
      ]
     },
     "execution_count": 96,
     "metadata": {},
     "output_type": "execute_result"
    },
    {
     "data": {
      "image/png": "[encoded data removed]",
      "text/plain": [
       "<Figure size 432x288 with 1 Axes>"
      ]
     },
     "metadata": {
      "needs_background": "light"
     },
     "output_type": "display_data"
    }
   ],
   "source": [
    "\n",
    "yearly_expiry_dates=defaultdict(lambda:list())\n",
    "for i in expiry_dates:\n",
    "    yearly_expiry_dates[i[-4:]].append(i)\n",
    "yearly_mp={}\n",
    "for i in list(yearly_expiry_dates.keys())[:-1]:\n",
    "    ex_strikes=[]\n",
    "    ex_pain_point=[]\n",
    "    pcr=[]\n",
    "    for ex in yearly_expiry_dates[i]:\n",
    "        c=pd.read_csv(\"/Users/shubhami/Documents/mine/finance/rough/checkpoints/maxpain/nifty/\"+'-'.join(ex.split('-')[::-1])+\"-OI-CE.csv\")\n",
    "        p=pd.read_csv(\"/Users/shubhami/Documents/mine/finance/rough/checkpoints/maxpain/nifty/\"+'-'.join(ex.split('-')[::-1])+\"-OI-PE.csv\")\n",
    "        point,d=get_max_pain_point(c,p)\n",
    "        ex_strikes.append(d)\n",
    "        ex_pain_point.append(point)\n",
    "        pcr.append(sum(p['FH_OPEN_INT'])/sum(c['FH_OPEN_INT']))\n",
    "    mp = pd.DataFrame(list(zip(yearly_expiry_dates[i],exipy_prices[exipy_prices['expiry_date'].str.endswith(i)]['price'] ,ex_pain_point,pcr)), columns = ['expiry', 'settlement','maxpain','pcr'])\n",
    "    mp['diff']=((mp['settlement']-mp['maxpain'])/mp['maxpain'])*100\n",
    "    mp=mp[mp['diff']>-8]\n",
    "    yearly_mp[i]=mp\n",
    "\n",
    "#removing one outlier for march-2020 covid\n",
    "yearly_results=pd.DataFrame(list(zip(yearly_mp.keys(),[NormalDist(mu=yearly_mp[i]['diff'].mean(), sigma=yearly_mp[i]['diff'].std()).cdf(5)*100 for i in yearly_mp.keys()])),columns = ['expiry', 'MaxPain'])\n",
    "bars=plt.bar(yearly_results.expiry, yearly_results.MaxPain)\n",
    "for bar in bars:\n",
    "    yval = bar.get_height()\n",
    "    plt.text(bar.get_x()-0.1, yval + 1, str(yval)[:4])\n",
    "yearly_results"
   ]
  },
  {
   "cell_type": "markdown",
   "id": "e15d1d3c",
   "metadata": {},
   "source": [
    "# month wise analsis"
   ]
  },
  {
   "cell_type": "code",
   "execution_count": 107,
   "id": "b9725b6c",
   "metadata": {
    "collapsed": true
   },
   "outputs": [
    {
     "data": {
      "text/html": [
       "<div>\n",
       "<style scoped>\n",
       "    .dataframe tbody tr th:only-of-type {\n",
       "        vertical-align: middle;\n",
       "    }\n",
       "\n",
       "    .dataframe tbody tr th {\n",
       "        vertical-align: top;\n",
       "    }\n",
       "\n",
       "    .dataframe thead th {\n",
       "        text-align: right;\n",
       "    }\n",
       "</style>\n",
       "<table border=\"1\" class=\"dataframe\">\n",
       "  <thead>\n",
       "    <tr style=\"text-align: right;\">\n",
       "      <th></th>\n",
       "      <th>expiry</th>\n",
       "      <th>MaxPain</th>\n",
       "    </tr>\n",
       "  </thead>\n",
       "  <tbody>\n",
       "    <tr>\n",
       "      <th>0</th>\n",
       "      <td>Jan</td>\n",
       "      <td>91.617303</td>\n",
       "    </tr>\n",
       "    <tr>\n",
       "      <th>1</th>\n",
       "      <td>Feb</td>\n",
       "      <td>97.086806</td>\n",
       "    </tr>\n",
       "    <tr>\n",
       "      <th>2</th>\n",
       "      <td>Mar</td>\n",
       "      <td>90.605428</td>\n",
       "    </tr>\n",
       "    <tr>\n",
       "      <th>3</th>\n",
       "      <td>Apr</td>\n",
       "      <td>78.664554</td>\n",
       "    </tr>\n",
       "    <tr>\n",
       "      <th>4</th>\n",
       "      <td>May</td>\n",
       "      <td>92.872324</td>\n",
       "    </tr>\n",
       "    <tr>\n",
       "      <th>5</th>\n",
       "      <td>Jun</td>\n",
       "      <td>97.962943</td>\n",
       "    </tr>\n",
       "    <tr>\n",
       "      <th>6</th>\n",
       "      <td>Jul</td>\n",
       "      <td>88.729993</td>\n",
       "    </tr>\n",
       "    <tr>\n",
       "      <th>7</th>\n",
       "      <td>Aug</td>\n",
       "      <td>93.003948</td>\n",
       "    </tr>\n",
       "    <tr>\n",
       "      <th>8</th>\n",
       "      <td>Sep</td>\n",
       "      <td>95.960972</td>\n",
       "    </tr>\n",
       "    <tr>\n",
       "      <th>9</th>\n",
       "      <td>Oct</td>\n",
       "      <td>88.152115</td>\n",
       "    </tr>\n",
       "    <tr>\n",
       "      <th>10</th>\n",
       "      <td>Nov</td>\n",
       "      <td>87.616625</td>\n",
       "    </tr>\n",
       "  </tbody>\n",
       "</table>\n",
       "</div>"
      ],
      "text/plain": [
       "   expiry    MaxPain\n",
       "0     Jan  91.617303\n",
       "1     Feb  97.086806\n",
       "2     Mar  90.605428\n",
       "3     Apr  78.664554\n",
       "4     May  92.872324\n",
       "5     Jun  97.962943\n",
       "6     Jul  88.729993\n",
       "7     Aug  93.003948\n",
       "8     Sep  95.960972\n",
       "9     Oct  88.152115\n",
       "10    Nov  87.616625"
      ]
     },
     "execution_count": 107,
     "metadata": {},
     "output_type": "execute_result"
    },
    {
     "data": {
      "image/png": "[encoded data removed]",
      "text/plain": [
       "<Figure size 432x288 with 1 Axes>"
      ]
     },
     "metadata": {
      "needs_background": "light"
     },
     "output_type": "display_data"
    }
   ],
   "source": [
    "monthly_expiry_dates=defaultdict(lambda:list())\n",
    "for i in expiry_dates:\n",
    "    monthly_expiry_dates[i[3:-5]].append(i)\n",
    "monthly_mp={}\n",
    "for i in list(monthly_expiry_dates.keys())[:-1]:\n",
    "    ex_strikes=[]\n",
    "    ex_pain_point=[]\n",
    "    pcr=[]\n",
    "    for ex in monthly_expiry_dates[i]:\n",
    "        c=pd.read_csv(\"/Users/shubhami/Documents/mine/finance/rough/checkpoints/maxpain/nifty/\"+'-'.join(ex.split('-')[::-1])+\"-OI-CE.csv\")\n",
    "        p=pd.read_csv(\"/Users/shubhami/Documents/mine/finance/rough/checkpoints/maxpain/nifty/\"+'-'.join(ex.split('-')[::-1])+\"-OI-PE.csv\")\n",
    "        point,d=get_max_pain_point(c,p)\n",
    "        ex_strikes.append(d)\n",
    "        ex_pain_point.append(point)\n",
    "        pcr.append(sum(p['FH_OPEN_INT'])/sum(c['FH_OPEN_INT']))\n",
    "    mp = pd.DataFrame(list(zip(monthly_expiry_dates[i],exipy_prices[exipy_prices['expiry_date'].str.contains(i)]['price'] ,ex_pain_point,pcr)), columns = ['expiry', 'settlement','maxpain','pcr'])\n",
    "    mp['diff']=((mp['settlement']-mp['maxpain'])/mp['maxpain'])*100\n",
    "    mp=mp[mp['diff']>-8]\n",
    "    monthly_mp[i]=mp\n",
    "\n",
    "#removing one outlier for march-2020 covid\n",
    "monthly_results=pd.DataFrame(list(zip(monthly_mp.keys(),[NormalDist(mu=monthly_mp[i]['diff'].mean(), sigma=monthly_mp[i]['diff'].std()).cdf(5)*100 for i in monthly_mp.keys()])),columns = ['expiry', 'MaxPain'])\n",
    "bars=plt.bar(monthly_results.expiry, monthly_results.MaxPain)\n",
    "for bar in bars:\n",
    "    yval = bar.get_height()\n",
    "    plt.text(bar.get_x()-0.1, yval + 1, str(yval)[:4])\n",
    "monthly_results"
   ]
  },
  {
   "cell_type": "code",
   "execution_count": null,
   "id": "f047fa89",
   "metadata": {},
   "outputs": [],
   "source": []
  },
  {
   "cell_type": "code",
   "execution_count": null,
   "id": "1c02a856",
   "metadata": {},
   "outputs": [],
   "source": [
    "\n"
   ]
  },
  {
   "cell_type": "markdown",
   "id": "84a4badb",
   "metadata": {},
   "source": [
    "### Instant maxpain point calculator"
   ]
  },
  {
   "cell_type": "code",
   "execution_count": 63,
   "id": "6be212f1",
   "metadata": {},
   "outputs": [
    {
     "data": {
      "text/plain": [
       "23700"
      ]
     },
     "execution_count": 63,
     "metadata": {},
     "output_type": "execute_result"
    }
   ],
   "source": [
    "symbol = \"NIFTY\"\n",
    "start_date = \"30-05-2024\"\n",
    "end_date =\"01-06-2024\"\n",
    "instrumentType = \"options\"\n",
    "expiry_date =\"27-Jun-2024\"\n",
    "c=nse.historical_derivative_data(symbol,start_date,end_date,instrumentType,expiry_date,\"\",\"CE\")\n",
    "p=nse.historical_derivative_data(symbol,start_date,end_date,instrumentType,expiry_date,\"\",\"PE\")\n",
    "c=c[c['FH_TIMESTAMP']==c['FH_TIMESTAMP'].max()]\n",
    "p=p[p['FH_TIMESTAMP']==p['FH_TIMESTAMP'].max()]\n",
    "point,d=get_max_pain_point(c,p)\n",
    "max_pain_point_with_buffer=round((float(point)*1.05)/100)*100\n",
    "max_pain_point_with_buffer"
   ]
  },
  {
   "cell_type": "code",
   "execution_count": 84,
   "id": "baa7a26c",
   "metadata": {},
   "outputs": [
    {
     "data": {
      "text/plain": [
       "4530.0"
      ]
     },
     "execution_count": 84,
     "metadata": {},
     "output_type": "execute_result"
    }
   ],
   "source": [
    "lotsize=25\n",
    "profit= float(c[c['FH_STRIKE_PRICE']==\"%.2f\" % max_pain_point_with_buffer]['FH_CLOSING_PRICE'].values[0]) *lotsize\n",
    "profit"
   ]
  },
  {
   "cell_type": "code",
   "execution_count": 97,
   "id": "c9d1ac2e",
   "metadata": {},
   "outputs": [
    {
     "data": {
      "text/plain": [
       "{'span': 32134,\n",
       " 'exposure': 11265.35,\n",
       " 'netoptionvalue': 4530,\n",
       " 'spread': 0,\n",
       " 'total': 43399.35}"
      ]
     },
     "execution_count": 97,
     "metadata": {},
     "output_type": "execute_result"
    }
   ],
   "source": [
    "\n",
    "BASE_URL = 'https://zerodha.com/margin-calculator/SPAN'\n",
    "data={\n",
    "\"action\": \"calculate\",\n",
    "\"exchange[]\": \"NFO\",\n",
    "\"product[]\": \"OPT\",\n",
    "\"scrip[]\": \"NIFTY24JUN\",\n",
    "\"option_type[]\": \"CE\",\n",
    "\"strike_price[]\": str(max_pain_point_with_buffer),\n",
    "\"qty[]\": \"25\",\n",
    "\"trade[]\": \"sell\"\n",
    "}\n",
    "session = requests.Session()\n",
    "res = session.post(BASE_URL, data=data)\n",
    "data = res.json()\n",
    "data['last']"
   ]
  },
  {
   "cell_type": "markdown",
   "id": "1c954525",
   "metadata": {},
   "source": [
    "# rough"
   ]
  },
  {
   "cell_type": "markdown",
   "id": "8cf97fe3",
   "metadata": {},
   "source": [
    "### s=nse.nsefetch('https://www.nseindia.com/api/historical/foCPV?from=01-04-2014&to=26-06-2014&instrumentType=OPTIDX&symbol=NIFTY&year=2014&strikePrice=2700.00&expiryDate=26-Jun-2014&optionType=CE&csv=true')\n",
    "s=nse.nsefetch('https://www.nseindia.com/api/historical/foCPV?from=25-06-2014&to=26-06-2014&instrumentType=OPTIDX&symbol=NIFTY&expiryDate=26-Jun-2014&optionType=CE&csv=true')\n",
    "s=pd.DataFrame.from_records(s[\"data\"])"
   ]
  },
  {
   "cell_type": "code",
   "execution_count": null,
   "id": "fedd99f3",
   "metadata": {},
   "outputs": [],
   "source": []
  },
  {
   "cell_type": "code",
   "execution_count": 157,
   "id": "38ecc218",
   "metadata": {},
   "outputs": [],
   "source": [
    "scp=[]\n",
    "fcp=[]\n",
    "for ex in expiry_dates:\n",
    "    if ex!='26-Mar-2020':\n",
    "        f=pd.read_csv(\"/Users/shubhami/Documents/mine/finance/rough/checkpoints/maxpain/nifty/\"+'-'.join(ex.split('-')[::-1])+\"-OI-CE.csv\")\n",
    "        s=pd.read_csv(\"/Users/shubhami/Documents/mine/finance/rough/checkpoints/maxpain/nifty/\"+'-'.join(ex.split('-')[::-1])+\"-OI-CE-7.csv\")\n",
    "        bufffer=mp[mp['expiry']==ex]['maxpain'].values[0]\n",
    "        bufffer=round((bufffer*1.05)/100)*100\n",
    "        scp.append(s[s['FH_STRIKE_PRICE']==bufffer]['FH_CLOSING_PRICE'].values[0])\n",
    "        bufffer=mp15[mp15['expiry']==ex]['maxpain'].values[0]\n",
    "        bufffer=round((bufffer*1.05)/100)*100\n",
    "        fcp.append(f[f['FH_STRIKE_PRICE']==bufffer]['FH_CLOSING_PRICE'].values[0])\n",
    "    "
   ]
  },
  {
   "cell_type": "code",
   "execution_count": 166,
   "id": "24c92a53",
   "metadata": {},
   "outputs": [
    {
     "data": {
      "image/png": "[encoded data removed]",
      "text/plain": [
       "<Figure size 432x288 with 1 Axes>"
      ]
     },
     "metadata": {
      "needs_background": "light"
     },
     "output_type": "display_data"
    }
   ],
   "source": [
    "plt.plot(mp['expiry'], [(x-y)*100/x for x,y in zip(fcp,scp)], marker='.',label='7days')\n",
    "# plt.plot(mp['expiry'], fcp, marker='.',label='14days')\n",
    "plt.legend()\n",
    "plt.show()"
   ]
  },
  {
   "cell_type": "code",
   "execution_count": 170,
   "id": "691f26d2",
   "metadata": {},
   "outputs": [
    {
     "data": {
      "text/plain": [
       "(64.1936399522515, 28.9428715833926)"
      ]
     },
     "execution_count": 170,
     "metadata": {},
     "output_type": "execute_result"
    }
   ],
   "source": [
    "fs=np.array([(x-y)*100/x for x,y in zip(fcp,scp)])\n",
    "fs.mean(),fs.std()"
   ]
  },
  {
   "cell_type": "code",
   "execution_count": 175,
   "id": "2803bad2",
   "metadata": {},
   "outputs": [
    {
     "data": {
      "image/png": "[encoded data removed]",
      "text/plain": [
       "<Figure size 432x288 with 1 Axes>"
      ]
     },
     "metadata": {
      "needs_background": "light"
     },
     "output_type": "display_data"
    }
   ],
   "source": [
    "plot_normal_diff(fs)\n"
   ]
  },
  {
   "cell_type": "code",
   "execution_count": 179,
   "id": "4e3b55b1",
   "metadata": {},
   "outputs": [
    {
     "name": "stdout",
     "output_type": "stream",
     "text": [
      "0.9867206410574914\n",
      "1.0\n"
     ]
    }
   ],
   "source": [
    "print(1-NormalDist(mu=fs.mean(), sigma=fs.std()).cdf(0))\n",
    "print(NormalDist(mu=fs.mean(), sigma=fs.std()).cdf(500))"
   ]
  },
  {
   "cell_type": "code",
   "execution_count": 180,
   "id": "ac1c03ac",
   "metadata": {},
   "outputs": [
    {
     "name": "stdout",
     "output_type": "stream",
     "text": [
      "0.9687641632145112\n",
      "0.9115306365387916\n"
     ]
    }
   ],
   "source": [
    "print(NormalDist(mu=mp['diff'].mean(), sigma=mp['diff'].std()).cdf(5))\n",
    "print(NormalDist(mu=mp15['diff'].mean(), sigma=mp15['diff'].std()).cdf(5))"
   ]
  },
  {
   "cell_type": "code",
   "execution_count": null,
   "id": "8fcee536",
   "metadata": {},
   "outputs": [],
   "source": []
  }
 ],
 "metadata": {
  "kernelspec": {
   "display_name": "Python 3",
   "language": "python",
   "name": "python3"
  },
  "language_info": {
   "codemirror_mode": {
    "name": "ipython",
    "version": 3
   },
   "file_extension": ".py",
   "mimetype": "text/x-python",
   "name": "python",
   "nbconvert_exporter": "python",
   "pygments_lexer": "ipython3",
   "version": "3.8.8"
  }
 },
 "nbformat": 4,
 "nbformat_minor": 5
}
