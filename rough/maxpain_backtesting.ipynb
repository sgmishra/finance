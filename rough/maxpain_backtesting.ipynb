{
 "cells": [
  {
   "cell_type": "code",
   "execution_count": 1,
   "id": "b8c07984",
   "metadata": {},
   "outputs": [],
   "source": [
    "import sys\n",
    "sys.path.insert(0, '..')\n",
    "from pkg.nse import nse"
   ]
  },
  {
   "cell_type": "code",
   "execution_count": 2,
   "id": "b3494be9",
   "metadata": {},
   "outputs": [],
   "source": [
    "import requests,json\n",
    "import pandas as pd\n",
    "import datetime\n",
    "import datetime\n",
    "from collections import defaultdict\n",
    "import matplotlib.pyplot as plt\n",
    "import numpy as np\n",
    "import scipy.stats as stats\n",
    "import math"
   ]
  },
  {
   "cell_type": "markdown",
   "id": "4a218a4f",
   "metadata": {},
   "source": [
    "#### Fetching all expiries from 2013-2023, Taking only last thrusday expiries"
   ]
  },
  {
   "cell_type": "code",
   "execution_count": 3,
   "id": "09b7cff3",
   "metadata": {},
   "outputs": [],
   "source": [
    "ex=nse.historical_expiry_dates_by_dates(\"NIFTY\",start_date=\"01-01-2013\",end_date=\"01-01-2024\",type=\"options\")\n",
    "dates = [datetime.datetime.strptime(date, '%d-%b-%Y') for date in ex]\n",
    "latest_dates = defaultdict(lambda: datetime.datetime.min)\n",
    "for date in dates:\n",
    "    month_year = (date.year, date.month)\n",
    "    if date > latest_dates[month_year]:\n",
    "        latest_dates[month_year] = date\n",
    "latest_dates_list = sorted(latest_dates.values())\n",
    "expiry_dates = [date.strftime('%d-%b-%Y') for date in latest_dates_list]"
   ]
  },
  {
   "cell_type": "markdown",
   "id": "e430b7b0",
   "metadata": {},
   "source": [
    "#### Fetching expiry prices\n",
    "##### ./checkpoints/nifty_expiry_prices.csv"
   ]
  },
  {
   "cell_type": "code",
   "execution_count": 4,
   "id": "bf7238c1",
   "metadata": {},
   "outputs": [],
   "source": [
    "# symbol = \"NIFTY\"\n",
    "# indexType = \"NIFTY 50\"\n",
    "# instrumentType = \"options\"\n",
    "# optionType=\"CE\"\n",
    "# exipy_prices={}\n",
    "# for i in expiry_dates:\n",
    "#     k=nse.index_history(indexType,(datetime.datetime.strptime(i, '%d-%b-%Y') - datetime.timedelta(days=1)).strftime('%d-%b-%Y'),i)\n",
    "#     exipy_prices[i]=k[k['HistoricalDate']==k['HistoricalDate'].max()]['CLOSE'][0]"
   ]
  },
  {
   "cell_type": "code",
   "execution_count": 5,
   "id": "52b46430",
   "metadata": {},
   "outputs": [],
   "source": [
    "exipy_prices=pd.read_csv(\"/Users/shubhami/Documents/mine/finance/rough/checkpoints/nifty_expiry_prices.csv\")\n"
   ]
  },
  {
   "cell_type": "markdown",
   "id": "283b649c",
   "metadata": {},
   "source": [
    "#### Calculating the day on which we will calculate max pain i.e on expiry -14"
   ]
  },
  {
   "cell_type": "code",
   "execution_count": 6,
   "id": "cf286f36",
   "metadata": {},
   "outputs": [],
   "source": [
    "def get_dates_minus_days(date):\n",
    "    date=datetime.datetime.strptime(date, '%d-%b-%Y')\n",
    "    return (date - datetime.timedelta(days=16)).strftime('%d-%m-%Y'),(date - datetime.timedelta(days=14)).strftime('%d-%m-%Y')\n",
    "pain_start_end_date=[]\n",
    "for i in expiry_dates:\n",
    "    pain_start_end_date.append([i,*get_dates_minus_days(i)])"
   ]
  },
  {
   "cell_type": "markdown",
   "id": "233b8a86",
   "metadata": {},
   "source": [
    "#### fetching option chain "
   ]
  },
  {
   "cell_type": "code",
   "execution_count": 7,
   "id": "3329604b",
   "metadata": {},
   "outputs": [],
   "source": [
    "# symbol = \"NIFTY\"\n",
    "# # start_date = \"26-26-2014\"\n",
    "# # end_date =\"26-06-2014\"\n",
    "# instrumentType = \"options\"\n",
    "# # expiry_date =\"26-Jun-2014\"\n",
    "# # strikePrice = 2700\n",
    "# optionType=\"PE\"\n",
    "# for ex, s,e in pain_start_end_date:\n",
    "#     a=nse.historical_derivative_data(symbol,s,e,instrumentType,ex,\"\",optionType)\n",
    "#     a[a['FH_TIMESTAMP']==a['FH_TIMESTAMP'].max()].to_csv(\"./checkpoints/maxpain/nifty/\"+'-'.join(ex.split('-')[::-1])+\"-OI-PE.csv\", encoding='utf-8')\n",
    "#     print('-'.join(ex.split('-')[::-1]),a['FH_TIMESTAMP'].max())\n"
   ]
  },
  {
   "cell_type": "markdown",
   "id": "525f436d",
   "metadata": {},
   "source": [
    "#### plotting the max pain"
   ]
  },
  {
   "cell_type": "code",
   "execution_count": 31,
   "id": "4d28d614",
   "metadata": {},
   "outputs": [],
   "source": [
    "def plot_max_pain(dictonary,max_pain_point,actual_expiry_price=0):\n",
    "    strike=dictonary.keys()\n",
    "    profit=dictonary.values()\n",
    "    buffer_point = round((max_pain_point *1.05) / 100) *100\n",
    "    top_y_value = max(profit) * 1.1 \n",
    "    plt.plot(strike, profit, marker='.')\n",
    "    plt.plot(max_pain_point, min(profit), 'ro', label='Max PAIN POINT @ {}'.format(max_pain_point))\n",
    "    plt.plot(buffer_point, min(profit), 'bo', label='With ~5% buffer @ {}'.format(buffer_point))\n",
    "    plt.fill_between(strike, profit, where=[s <= max_pain_point for s in strike], color='red', alpha=0.3, label='CE write')\n",
    "    plt.fill_between(strike, profit, where=[s >= buffer_point for s in strike], color='red', alpha=0.3)\n",
    "    plt.fill_between(strike, profit, where=[max_pain_point <= s <= buffer_point for s in strike], color='green', alpha=0.5, label='Expected Expiry')\n",
    "    if actual_expiry_price:\n",
    "        plt.plot(actual_expiry_price, min(profit), 'go', label='Actual Expiry Price {}'.format(actual_expiry_price))\n",
    "    plt.xlabel('STRIKE')\n",
    "    plt.ylabel('PROFIT')\n",
    "    plt.title('Plotting for MAXPAIN')\n",
    "    plt.legend()\n",
    "    plt.show()\n"
   ]
  },
  {
   "cell_type": "code",
   "execution_count": 9,
   "id": "5bc7ce67",
   "metadata": {},
   "outputs": [],
   "source": [
    "def ce_profit(strike,stock):\n",
    "    result = stock-strike\n",
    "    return max(result, 0) \n",
    "\n",
    "def pe_profit(strike,stock):\n",
    "    result = strike-stock\n",
    "    return max(result, 0)   \n",
    "\n",
    "def get_max_pain_point(c,p):\n",
    "    def ce_operation(strike,OI,stock):\n",
    "        profit=ce_profit(strike,stock)\n",
    "        return OI * profit\n",
    "    def pe_operation(strike,OI,stock):\n",
    "        profit=pe_profit(strike,stock)\n",
    "        return OI * profit\n",
    "    profit={}\n",
    "    for s in c['FH_STRIKE_PRICE']:\n",
    "        profit[s]=sum(c.apply(lambda row:ce_operation(row['FH_STRIKE_PRICE'],row['FH_OPEN_INT'],s), axis=1))+sum(p.apply(lambda row:pe_operation(row['FH_STRIKE_PRICE'],row['FH_OPEN_INT'],s), axis=1))\n",
    "    return min(profit, key=(lambda x: profit[x])),profit"
   ]
  },
  {
   "cell_type": "code",
   "execution_count": 10,
   "id": "42ac809b",
   "metadata": {},
   "outputs": [],
   "source": [
    "ex_strikes=[]\n",
    "ex_pain_point=[]\n",
    "pcr=[]\n",
    "for ex in expiry_dates:\n",
    "    c=pd.read_csv(\"/Users/shubhami/Documents/mine/finance/rough/checkpoints/maxpain/nifty/\"+'-'.join(ex.split('-')[::-1])+\"-OI-CE.csv\")\n",
    "    p=pd.read_csv(\"/Users/shubhami/Documents/mine/finance/rough/checkpoints/maxpain/nifty/\"+'-'.join(ex.split('-')[::-1])+\"-OI-PE.csv\")\n",
    "    point,d=get_max_pain_point(c,p)\n",
    "    ex_strikes.append(d)\n",
    "    ex_pain_point.append(point)\n",
    "    pcr.append(sum(p['FH_OPEN_INT'])/sum(c['FH_OPEN_INT']))\n",
    "    \n",
    "mp = pd.DataFrame(list(zip(exipy_prices['expiry_date'], exipy_prices['price'],ex_pain_point,pcr)), columns = ['expiry', 'settlement','maxpain','pcr'])\n",
    "mp['diff']=((mp['settlement']-mp['maxpain'])/mp['maxpain'])*100\n",
    "#plot_max_pain(d,point,exipy_prices[exipy_prices['expiry_date']==ex]['price'].values[0])\n",
    "\n",
    "#removing one outlier for march-2020 covid\n",
    "mp=mp[mp['diff']>-8]"
   ]
  },
  {
   "cell_type": "code",
   "execution_count": 32,
   "id": "2ba5116a",
   "metadata": {},
   "outputs": [
    {
     "data": {
      "image/png": "[encoded data removed]",
      "text/plain": [
       "<Figure size 432x288 with 1 Axes>"
      ]
     },
     "metadata": {
      "needs_background": "light"
     },
     "output_type": "display_data"
    }
   ],
   "source": [
    "plot_max_pain(ex_strikes[0],ex_pain_point[0],exipy_prices['price'][0])\n"
   ]
  },
  {
   "cell_type": "code",
   "execution_count": 11,
   "id": "e6c70a60",
   "metadata": {},
   "outputs": [
    {
     "data": {
      "image/png": "[encoded data removed]",
      "text/plain": [
       "<Figure size 432x288 with 1 Axes>"
      ]
     },
     "metadata": {
      "needs_background": "light"
     },
     "output_type": "display_data"
    }
   ],
   "source": [
    "\n",
    "def normal_pdf(x, mu=0, sigma=1):\n",
    "    sqrt_two_pi = math.sqrt(math.pi * 2)\n",
    "    return np.exp(-(x - mu) ** 2 / 2 / sigma ** 2) / (sqrt_two_pi * sigma)\n",
    "\n",
    "mean = mp['diff'].mean()\n",
    "std = mp['diff'].std()\n",
    "first_std_range = (mean - std, mean + std)\n",
    "second_std_range = (mean - 2*std, mean + 2*std)\n",
    "\n",
    "plt.scatter(mp['diff'],normal_pdf(mp['diff'],mean,std) )\n",
    "plt.axvline(first_std_range[0], color='g', linestyle='--', linewidth=2, label='1st Std Dev')\n",
    "plt.axvline(first_std_range[1], color='g', linestyle='--', linewidth=2)\n",
    "plt.axvline(mean, color='r', linestyle='--', linewidth=2, label='Mean')\n",
    "plt.axvline(second_std_range[0], color='b', linestyle='--', linewidth=2, label='2nd Std Dev')\n",
    "plt.axvline(second_std_range[1], color='b', linestyle='--', linewidth=2)\n",
    "plt.xlabel('% difference in actual and predicted using max pain')\n",
    "plt.ylabel('probability density')\n",
    "plt.legend()\n",
    "plt.show()"
   ]
  },
  {
   "cell_type": "code",
   "execution_count": 12,
   "id": "de552f20",
   "metadata": {},
   "outputs": [
    {
     "name": "stdout",
     "output_type": "stream",
     "text": [
      "0.6152485323959672\n",
      "(-2.6321360712228046, 3.862633136014739) ~68%\n",
      "(-5.879520674841576, 7.110017739633511) ~95%\n"
     ]
    }
   ],
   "source": [
    "print(mean)\n",
    "print(first_std_range, '~68%')\n",
    "print(second_std_range, '~95%')"
   ]
  },
  {
   "cell_type": "code",
   "execution_count": 116,
   "id": "5fc048c1",
   "metadata": {},
   "outputs": [],
   "source": []
  },
  {
   "cell_type": "code",
   "execution_count": 40,
   "id": "6be212f1",
   "metadata": {},
   "outputs": [],
   "source": []
  },
  {
   "cell_type": "code",
   "execution_count": null,
   "id": "68755d88",
   "metadata": {},
   "outputs": [],
   "source": []
  },
  {
   "cell_type": "markdown",
   "id": "1c954525",
   "metadata": {},
   "source": [
    "# rough"
   ]
  },
  {
   "cell_type": "markdown",
   "id": "8cf97fe3",
   "metadata": {},
   "source": [
    "### s=nse.nsefetch('https://www.nseindia.com/api/historical/foCPV?from=01-04-2014&to=26-06-2014&instrumentType=OPTIDX&symbol=NIFTY&year=2014&strikePrice=2700.00&expiryDate=26-Jun-2014&optionType=CE&csv=true')\n",
    "s=nse.nsefetch('https://www.nseindia.com/api/historical/foCPV?from=25-06-2014&to=26-06-2014&instrumentType=OPTIDX&symbol=NIFTY&expiryDate=26-Jun-2014&optionType=CE&csv=true')\n",
    "s=pd.DataFrame.from_records(s[\"data\"])"
   ]
  },
  {
   "cell_type": "code",
   "execution_count": null,
   "id": "fedd99f3",
   "metadata": {},
   "outputs": [],
   "source": []
  }
 ],
 "metadata": {
  "kernelspec": {
   "display_name": "Python 3",
   "language": "python",
   "name": "python3"
  },
  "language_info": {
   "codemirror_mode": {
    "name": "ipython",
    "version": 3
   },
   "file_extension": ".py",
   "mimetype": "text/x-python",
   "name": "python",
   "nbconvert_exporter": "python",
   "pygments_lexer": "ipython3",
   "version": "3.8.8"
  }
 },
 "nbformat": 4,
 "nbformat_minor": 5
}
