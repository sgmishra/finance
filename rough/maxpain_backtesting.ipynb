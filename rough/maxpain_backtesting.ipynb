{
 "cells": [
  {
   "cell_type": "code",
   "execution_count": 1,
   "id": "b8c07984",
   "metadata": {},
   "outputs": [],
   "source": [
    "import sys\n",
    "sys.path.insert(0, '..')\n",
    "from pkg.nse import nse"
   ]
  },
  {
   "cell_type": "code",
   "execution_count": 2,
   "id": "b3494be9",
   "metadata": {},
   "outputs": [],
   "source": [
    "import requests,json\n",
    "import pandas as pd\n",
    "import datetime\n",
    "import datetime\n",
    "from collections import defaultdict"
   ]
  },
  {
   "cell_type": "markdown",
   "id": "4a218a4f",
   "metadata": {},
   "source": [
    "#### Fetching all expiries from 2013-2023, Taking only last thrusday expiries"
   ]
  },
  {
   "cell_type": "code",
   "execution_count": 3,
   "id": "09b7cff3",
   "metadata": {},
   "outputs": [],
   "source": [
    "ex=nse.historical_expiry_dates_by_dates(\"NIFTY\",start_date=\"01-01-2013\",end_date=\"01-01-2024\",type=\"options\")\n",
    "dates = [datetime.datetime.strptime(date, '%d-%b-%Y') for date in ex]\n",
    "latest_dates = defaultdict(lambda: datetime.datetime.min)\n",
    "for date in dates:\n",
    "    month_year = (date.year, date.month)\n",
    "    if date > latest_dates[month_year]:\n",
    "        latest_dates[month_year] = date\n",
    "latest_dates_list = sorted(latest_dates.values())\n",
    "expiry_dates = [date.strftime('%d-%b-%Y') for date in latest_dates_list]"
   ]
  },
  {
   "cell_type": "markdown",
   "id": "e430b7b0",
   "metadata": {},
   "source": [
    "#### Fetching expiry prices\n",
    "##### ./checkpoints/nifty_expiry_prices.csv"
   ]
  },
  {
   "cell_type": "code",
   "execution_count": 30,
   "id": "bf7238c1",
   "metadata": {},
   "outputs": [],
   "source": [
    "# symbol = \"NIFTY\"\n",
    "# indexType = \"NIFTY 50\"\n",
    "# instrumentType = \"options\"\n",
    "# optionType=\"CE\"\n",
    "# exipy_prices={}\n",
    "# for i in expiry_dates:\n",
    "#     k=nse.index_history(indexType,(datetime.datetime.strptime(i, '%d-%b-%Y') - datetime.timedelta(days=1)).strftime('%d-%b-%Y'),i)\n",
    "#     exipy_prices[i]=k[k['HistoricalDate']==k['HistoricalDate'].max()]['CLOSE'][0]"
   ]
  },
  {
   "cell_type": "markdown",
   "id": "283b649c",
   "metadata": {},
   "source": [
    "#### Calculating the day on which we will calculate max pain i.e on expiry -14"
   ]
  },
  {
   "cell_type": "code",
   "execution_count": 10,
   "id": "cf286f36",
   "metadata": {},
   "outputs": [],
   "source": [
    "def get_dates_minus_days(date):\n",
    "    date=datetime.datetime.strptime(date, '%d-%b-%Y')\n",
    "    return (date - datetime.timedelta(days=16)).strftime('%d-%m-%Y'),(date - datetime.timedelta(days=14)).strftime('%d-%m-%Y')\n",
    "pain_start_end_date=[]\n",
    "for i in expiry_dates:\n",
    "    pain_start_end_date.append([i,*get_dates_minus_days(i)])"
   ]
  },
  {
   "cell_type": "markdown",
   "id": "233b8a86",
   "metadata": {},
   "source": [
    "#### fetching "
   ]
  },
  {
   "cell_type": "code",
   "execution_count": 51,
   "id": "3329604b",
   "metadata": {},
   "outputs": [
    {
     "name": "stdout",
     "output_type": "stream",
     "text": [
      "2013-Jan-31 17-Jan-2013\n",
      "2013-Feb-28 14-Feb-2013\n",
      "2013-Mar-28 14-Mar-2013\n",
      "2013-Apr-25 11-Apr-2013\n",
      "2013-May-30 16-May-2013\n",
      "2013-Jun-27 13-Jun-2013\n",
      "2013-Jul-25 11-Jul-2013\n",
      "2013-Aug-29 14-Aug-2013\n",
      "2013-Sep-26 12-Sep-2013\n",
      "2013-Oct-31 17-Oct-2013\n",
      "2013-Nov-28 14-Nov-2013\n",
      "2013-Dec-26 12-Dec-2013\n",
      "2014-Jan-30 16-Jan-2014\n",
      "2014-Feb-26 12-Feb-2014\n",
      "2014-Mar-27 13-Mar-2014\n",
      "2014-Apr-24 10-Apr-2014\n",
      "2014-May-29 15-May-2014\n",
      "2014-Jun-26 12-Jun-2014\n",
      "2014-Jul-31 17-Jul-2014\n",
      "2014-Aug-28 14-Aug-2014\n",
      "2014-Sep-25 11-Sep-2014\n",
      "2014-Oct-30 16-Oct-2014\n",
      "2014-Nov-27 13-Nov-2014\n",
      "2014-Dec-24 10-Dec-2014\n",
      "2015-Jan-29 15-Jan-2015\n",
      "2015-Feb-26 12-Feb-2015\n",
      "2015-Mar-26 12-Mar-2015\n",
      "2015-Apr-30 16-Apr-2015\n",
      "2015-May-28 14-May-2015\n",
      "2015-Jun-25 11-Jun-2015\n",
      "2015-Jul-30 16-Jul-2015\n",
      "2015-Aug-27 13-Aug-2015\n",
      "2015-Sep-24 10-Sep-2015\n",
      "2015-Oct-29 15-Oct-2015\n",
      "2015-Nov-26 11-Nov-2015\n",
      "2015-Dec-31 17-Dec-2015\n",
      "2016-Jan-28 14-Jan-2016\n",
      "2016-Feb-25 11-Feb-2016\n",
      "2016-Mar-31 17-Mar-2016\n",
      "2016-Apr-28 13-Apr-2016\n",
      "2016-May-26 12-May-2016\n",
      "2016-Jun-30 16-Jun-2016\n",
      "2016-Jul-28 14-Jul-2016\n",
      "2016-Aug-25 11-Aug-2016\n",
      "2016-Sep-29 15-Sep-2016\n",
      "2016-Oct-27 13-Oct-2016\n",
      "2016-Nov-24 10-Nov-2016\n",
      "2016-Dec-29 15-Dec-2016\n",
      "2017-Jan-25 11-Jan-2017\n",
      "2017-Feb-23 09-Feb-2017\n",
      "2017-Mar-30 16-Mar-2017\n",
      "2017-Apr-27 13-Apr-2017\n",
      "2017-May-25 11-May-2017\n",
      "2017-Jun-29 15-Jun-2017\n",
      "2017-Jul-27 13-Jul-2017\n",
      "2017-Aug-31 17-Aug-2017\n",
      "2017-Sep-28 14-Sep-2017\n",
      "2017-Oct-26 12-Oct-2017\n",
      "2017-Nov-30 16-Nov-2017\n",
      "2017-Dec-28 14-Dec-2017\n",
      "2018-Jan-25 11-Jan-2018\n",
      "2018-Feb-22 08-Feb-2018\n",
      "2018-Mar-28 14-Mar-2018\n",
      "2018-Apr-26 12-Apr-2018\n",
      "2018-May-31 17-May-2018\n",
      "2018-Jun-28 14-Jun-2018\n",
      "2018-Jul-26 12-Jul-2018\n",
      "2018-Aug-30 16-Aug-2018\n",
      "2018-Sep-27 12-Sep-2018\n",
      "2018-Oct-25 11-Oct-2018\n",
      "2018-Nov-29 15-Nov-2018\n",
      "2018-Dec-27 13-Dec-2018\n",
      "2019-Jan-31 17-Jan-2019\n",
      "2019-Feb-28 14-Feb-2019\n",
      "2019-Mar-28 14-Mar-2019\n",
      "2019-Apr-25 11-Apr-2019\n",
      "2019-May-30 16-May-2019\n",
      "2019-Jun-27 13-Jun-2019\n",
      "2019-Jul-25 11-Jul-2019\n",
      "2019-Aug-29 14-Aug-2019\n",
      "2019-Sep-26 12-Sep-2019\n",
      "2019-Oct-31 17-Oct-2019\n",
      "2019-Nov-28 14-Nov-2019\n",
      "2019-Dec-26 12-Dec-2019\n",
      "2020-Jan-30 16-Jan-2020\n",
      "2020-Feb-27 13-Feb-2020\n",
      "2020-Mar-26 12-Mar-2020\n",
      "2020-Apr-30 16-Apr-2020\n",
      "2020-May-28 14-May-2020\n",
      "2020-Jun-25 11-Jun-2020\n",
      "2020-Jul-30 16-Jul-2020\n",
      "2020-Aug-27 13-Aug-2020\n",
      "2020-Sep-24 10-Sep-2020\n",
      "2020-Oct-29 15-Oct-2020\n",
      "2020-Nov-26 12-Nov-2020\n",
      "2020-Dec-31 17-Dec-2020\n",
      "2021-Jan-28 14-Jan-2021\n",
      "2021-Feb-25 11-Feb-2021\n",
      "2021-Mar-25 10-Mar-2021\n",
      "2021-Apr-29 15-Apr-2021\n",
      "2021-May-27 12-May-2021\n",
      "2021-Jun-24 10-Jun-2021\n",
      "2021-Jul-29 15-Jul-2021\n",
      "2021-Aug-26 12-Aug-2021\n",
      "2021-Sep-30 16-Sep-2021\n",
      "2021-Oct-28 14-Oct-2021\n",
      "2021-Nov-25 11-Nov-2021\n",
      "2021-Dec-30 16-Dec-2021\n",
      "2022-Jan-27 13-Jan-2022\n",
      "2022-Feb-24 10-Feb-2022\n",
      "2022-Mar-31 17-Mar-2022\n",
      "2022-Apr-28 13-Apr-2022\n",
      "2022-May-26 12-May-2022\n",
      "2022-Jun-30 16-Jun-2022\n",
      "2022-Jul-28 14-Jul-2022\n",
      "2022-Aug-25 11-Aug-2022\n",
      "2022-Sep-29 15-Sep-2022\n",
      "2022-Oct-27 13-Oct-2022\n",
      "2022-Nov-24 10-Nov-2022\n",
      "2022-Dec-29 15-Dec-2022\n",
      "2023-Jan-25 11-Jan-2023\n",
      "2023-Feb-23 09-Feb-2023\n",
      "2023-Mar-29 15-Mar-2023\n",
      "2023-Apr-27 13-Apr-2023\n",
      "2023-May-25 11-May-2023\n",
      "2023-Jun-29 15-Jun-2023\n",
      "2023-Jul-27 13-Jul-2023\n",
      "2023-Aug-31 17-Aug-2023\n",
      "2023-Sep-28 14-Sep-2023\n",
      "2023-Oct-26 12-Oct-2023\n",
      "2023-Nov-30 16-Nov-2023\n",
      "2023-Dec-28 14-Dec-2023\n",
      "2024-Jan-04 21-Dec-2023\n"
     ]
    }
   ],
   "source": [
    "symbol = \"NIFTY\"\n",
    "# start_date = \"26-26-2014\"\n",
    "# end_date =\"26-06-2014\"\n",
    "instrumentType = \"options\"\n",
    "# expiry_date =\"26-Jun-2014\"\n",
    "# strikePrice = 2700\n",
    "optionType=\"CE\"\n",
    "for ex, s,e in pain_start_end_date:\n",
    "    a=nse.historical_derivative_data(symbol,s,e,instrumentType,ex,\"\",optionType)\n",
    "    a[a['FH_TIMESTAMP']==a['FH_TIMESTAMP'].max()].to_csv(\"./checkpoints/maxpain/nifty/\"+'-'.join(ex.split('-')[::-1])+\"-OI.csv\", encoding='utf-8')\n",
    "    print('-'.join(ex.split('-')[::-1]),a['FH_TIMESTAMP'].max())\n"
   ]
  },
  {
   "cell_type": "code",
   "execution_count": null,
   "id": "82fb5624",
   "metadata": {},
   "outputs": [],
   "source": []
  },
  {
   "cell_type": "code",
   "execution_count": 40,
   "id": "6be212f1",
   "metadata": {},
   "outputs": [],
   "source": [
    "# df = pd.DataFrame(list(exipy_prices.items()))\n",
    "# df.columns = ['expiry_date', 'price']\n",
    "# df.to_csv('./checkpoints/nifty_expiry_prices.csv', encoding='utf-8')\n"
   ]
  },
  {
   "cell_type": "code",
   "execution_count": 50,
   "id": "c84cf62c",
   "metadata": {},
   "outputs": [
    {
     "data": {
      "text/plain": [
       "'2014-Mar-27'"
      ]
     },
     "execution_count": 50,
     "metadata": {},
     "output_type": "execute_result"
    }
   ],
   "source": []
  },
  {
   "cell_type": "code",
   "execution_count": 45,
   "id": "50df8ced",
   "metadata": {},
   "outputs": [
    {
     "name": "stdout",
     "output_type": "stream",
     "text": [
      "31-Jan-2013-OI.csv\r\n"
     ]
    }
   ],
   "source": [
    "!ls checkpoints/maxpain/nifty\n",
    "\n"
   ]
  },
  {
   "cell_type": "code",
   "execution_count": null,
   "id": "02e7893f",
   "metadata": {},
   "outputs": [],
   "source": []
  },
  {
   "cell_type": "code",
   "execution_count": null,
   "id": "68d63391",
   "metadata": {},
   "outputs": [],
   "source": []
  },
  {
   "cell_type": "code",
   "execution_count": null,
   "id": "68755d88",
   "metadata": {},
   "outputs": [],
   "source": []
  },
  {
   "cell_type": "markdown",
   "id": "1c954525",
   "metadata": {},
   "source": [
    "# rough"
   ]
  },
  {
   "cell_type": "markdown",
   "id": "8cf97fe3",
   "metadata": {},
   "source": [
    "### s=nse.nsefetch('https://www.nseindia.com/api/historical/foCPV?from=01-04-2014&to=26-06-2014&instrumentType=OPTIDX&symbol=NIFTY&year=2014&strikePrice=2700.00&expiryDate=26-Jun-2014&optionType=CE&csv=true')\n",
    "s=nse.nsefetch('https://www.nseindia.com/api/historical/foCPV?from=25-06-2014&to=26-06-2014&instrumentType=OPTIDX&symbol=NIFTY&expiryDate=26-Jun-2014&optionType=CE&csv=true')\n",
    "s=pd.DataFrame.from_records(s[\"data\"])"
   ]
  },
  {
   "cell_type": "code",
   "execution_count": null,
   "id": "fedd99f3",
   "metadata": {},
   "outputs": [],
   "source": []
  }
 ],
 "metadata": {
  "kernelspec": {
   "display_name": "Python 3",
   "language": "python",
   "name": "python3"
  },
  "language_info": {
   "codemirror_mode": {
    "name": "ipython",
    "version": 3
   },
   "file_extension": ".py",
   "mimetype": "text/x-python",
   "name": "python",
   "nbconvert_exporter": "python",
   "pygments_lexer": "ipython3",
   "version": "3.8.8"
  }
 },
 "nbformat": 4,
 "nbformat_minor": 5
}
